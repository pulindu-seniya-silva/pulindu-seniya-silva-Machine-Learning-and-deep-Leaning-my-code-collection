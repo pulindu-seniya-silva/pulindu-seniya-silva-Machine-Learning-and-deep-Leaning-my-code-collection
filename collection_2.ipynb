{
  "nbformat": 4,
  "nbformat_minor": 0,
  "metadata": {
    "colab": {
      "provenance": [],
      "authorship_tag": "ABX9TyN/ExjsduHG62Psj+cbl8m5",
      "include_colab_link": true
    },
    "kernelspec": {
      "name": "python3",
      "display_name": "Python 3"
    },
    "language_info": {
      "name": "python"
    }
  },
  "cells": [
    {
      "cell_type": "markdown",
      "metadata": {
        "id": "view-in-github",
        "colab_type": "text"
      },
      "source": [
        "<a href=\"https://colab.research.google.com/github/pulindu-seniya-silva/pulindu-seniya-silva-Machine-Learning-and-deep-Leaning-my-code-collection/blob/main/collection_2.ipynb\" target=\"_parent\"><img src=\"https://colab.research.google.com/assets/colab-badge.svg\" alt=\"Open In Colab\"/></a>"
      ]
    },
    {
      "cell_type": "code",
      "source": [
        "import pandas as pd\n",
        "import numpy as np\n",
        "\n",
        "data = {\n",
        "    'Name': ['Alice', 'Bob', np.nan, 'David'],\n",
        "    'Age': [25, np.nan, 22, 28],\n",
        "    'City': ['Colombo', 'Kandy', 'Galle', np.nan]\n",
        "}\n",
        "df = pd.DataFrame(data)\n",
        "\n",
        "# Identify missing values\n",
        "print(\"Missing values:\\n\", df.isnull())\n",
        "\n",
        "# Fill missing values\n",
        "df_filled = df.fillna({\n",
        "    'Name': 'Unknown',\n",
        "    'Age': df['Age'].mean(),\n",
        "    'City': 'Unknown'\n",
        "})\n",
        "print(\"\\nAfter filling:\\n\", df_filled)\n",
        "\n",
        "# Drop rows with any missing values\n",
        "df_dropped = df.dropna()\n",
        "print(\"\\nAfter dropping:\\n\", df_dropped)\n"
      ],
      "metadata": {
        "colab": {
          "base_uri": "https://localhost:8080/"
        },
        "id": "KHL8k1QobpXT",
        "outputId": "bd1bf31e-4db3-4be1-e7b1-e458f30d377a"
      },
      "execution_count": 6,
      "outputs": [
        {
          "output_type": "stream",
          "name": "stdout",
          "text": [
            "Missing values:\n",
            "     Name    Age   City\n",
            "0  False  False  False\n",
            "1  False   True  False\n",
            "2   True  False  False\n",
            "3  False  False   True\n",
            "\n",
            "After filling:\n",
            "       Name   Age     City\n",
            "0    Alice  25.0  Colombo\n",
            "1      Bob  25.0    Kandy\n",
            "2  Unknown  22.0    Galle\n",
            "3    David  28.0  Unknown\n",
            "\n",
            "After dropping:\n",
            "     Name   Age     City\n",
            "0  Alice  25.0  Colombo\n"
          ]
        }
      ]
    }
  ]
}