{
  "nbformat": 4,
  "nbformat_minor": 0,
  "metadata": {
    "colab": {
      "provenance": [],
      "authorship_tag": "ABX9TyPJxwoCa7EaVRnmUEF6HVrD",
      "include_colab_link": true
    },
    "kernelspec": {
      "name": "python3",
      "display_name": "Python 3"
    },
    "language_info": {
      "name": "python"
    }
  },
  "cells": [
    {
      "cell_type": "markdown",
      "metadata": {
        "id": "view-in-github",
        "colab_type": "text"
      },
      "source": [
        "<a href=\"https://colab.research.google.com/github/pulindu-seniya-silva/pulindu-seniya-silva-Machine-Learning-and-deep-Leaning-my-code-collection/blob/main/collection_2.ipynb\" target=\"_parent\"><img src=\"https://colab.research.google.com/assets/colab-badge.svg\" alt=\"Open In Colab\"/></a>"
      ]
    },
    {
      "cell_type": "code",
      "source": [
        "import pandas as pd\n",
        "import numpy as np\n",
        "\n",
        "data = {\n",
        "    'Name': ['Alice', 'Bob', np.nan, 'David'],\n",
        "    'Age': [25, np.nan, 22, 28],\n",
        "    'City': ['Colombo', 'Kandy', 'Galle', np.nan]\n",
        "}\n",
        "df = pd.DataFrame(data)\n",
        "\n",
        "# Identify missing values\n",
        "print(\"Missing values:\\n\", df.isnull())\n",
        "\n",
        "# Fill missing values\n",
        "df_filled = df.fillna({\n",
        "    'Name': 'Unknown',\n",
        "    'Age': df['Age'].mean(),\n",
        "    'City': 'Unknown'\n",
        "})\n",
        "print(\"\\nAfter filling:\\n\", df_filled)\n",
        "\n",
        "# Drop rows with any missing values\n",
        "df_dropped = df.dropna()\n",
        "print(\"\\nAfter dropping:\\n\", df_dropped)\n"
      ],
      "metadata": {
        "colab": {
          "base_uri": "https://localhost:8080/"
        },
        "id": "KHL8k1QobpXT",
        "outputId": "08b85a62-0d0b-428d-a4b7-1e542c0c5a44"
      },
      "execution_count": 20,
      "outputs": [
        {
          "output_type": "stream",
          "name": "stdout",
          "text": [
            "Missing values:\n",
            "     Name    Age   City\n",
            "0  False  False  False\n",
            "1  False   True  False\n",
            "2   True  False  False\n",
            "3  False  False   True\n",
            "\n",
            "After filling:\n",
            "       Name   Age     City\n",
            "0    Alice  25.0  Colombo\n",
            "1      Bob  25.0    Kandy\n",
            "2  Unknown  22.0    Galle\n",
            "3    David  28.0  Unknown\n",
            "\n",
            "After dropping:\n",
            "     Name   Age     City\n",
            "0  Alice  25.0  Colombo\n"
          ]
        }
      ]
    },
    {
      "cell_type": "code",
      "source": [
        "#Detect and Remove Duplicate Rows\n",
        "data = {\n",
        "    'EName': ['studentA', 'studentA'],\n",
        "    'Age': [24, 24],\n",
        "    'City': ['Ragama', 'Ragama']\n",
        "}\n",
        "\n",
        "df = pd.DataFrame(data)\n",
        "print(df)\n",
        "\n",
        "df_unique = df.drop_duplicates()\n",
        "print(df_unique)\n",
        "\n"
      ],
      "metadata": {
        "colab": {
          "base_uri": "https://localhost:8080/"
        },
        "id": "WeHYWN_8cl-_",
        "outputId": "d74c30b0-0de3-45d5-ca7a-3957061743f6"
      },
      "execution_count": 30,
      "outputs": [
        {
          "output_type": "stream",
          "name": "stdout",
          "text": [
            "      EName  Age    City\n",
            "0  studentA   24  Ragama\n",
            "1  studentA   24  Ragama\n",
            "      EName  Age    City\n",
            "0  studentA   24  Ragama\n"
          ]
        }
      ]
    },
    {
      "cell_type": "code",
      "source": [],
      "metadata": {
        "id": "t1wXskaKlKhk"
      },
      "execution_count": null,
      "outputs": []
    }
  ]
}